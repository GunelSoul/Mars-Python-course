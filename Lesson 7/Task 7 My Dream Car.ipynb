{
 "cells": [
  {
   "cell_type": "markdown",
   "id": "671736bf",
   "metadata": {},
   "source": [
    "[ENG]\n",
    "My Dream Car Dictionary\n",
    "\n",
    "Instruction:\n",
    "\n",
    "In this task, you will create a Python dictionary to store information about \n",
    "your dream car. You will populate the dictionary with keys and values that \n",
    "describe the car's brand, model, year, color, and capabilities. \n",
    "By the end of the task, you will have a complete dictionary that represents \n",
    "your dream car in all its glory\n",
    "\n",
    "We have a car called \"Ford\"\n",
    "It is a Mustang model, its year is 2010\n",
    "Its color is Blue and it is not an electric car.\n",
    "And this car has some capabilities like Suspension system, Performance, Fuel efficiency and etc.\n",
    "\n",
    "Create a dictionary and populate it with keys and values based on the given information above. "
   ]
  },
  {
   "cell_type": "markdown",
   "id": "3efde84a",
   "metadata": {},
   "source": [
    "[AZE]\n",
    "Təlimat:\n",
    "\n",
    "Bu tapşırıqda siz xəyalınızdakı avtomobil haqqında məlumat saxlamaq üçün Python lüğəti yaradacaqsınız. Siz lüğəti avtomobilin markasını, modelini, ilini, rəngini və imkanlarını təsvir edin açarlar və dəyərlərlə dolduracaqsınız.\n",
    "\n",
    "Tapşırığın sonunda xəyalınızdakı avtomobil təmsil edən tam lüğətiniz olacaq.\n",
    "\n",
    "Bizim \"Ford\" adlı maşınımız var.\n",
    "Mustang modelidir, 2010-cu ildir\n",
    "Onun rəngi Mavidir və elektrik avtomobili deyil.\n",
    "Və bu avtomobil bəzi imkanlara malikdir Asma sistemi, Performans, Yanacaq səmərəliliyi və s.\n"
   ]
  },
  {
   "cell_type": "code",
   "execution_count": null,
   "id": "2414879d",
   "metadata": {},
   "outputs": [],
   "source": [
    "#Write your code here"
   ]
  }
 ],
 "metadata": {
  "kernelspec": {
   "display_name": "Python 3",
   "language": "python",
   "name": "python3"
  },
  "language_info": {
   "codemirror_mode": {
    "name": "ipython",
    "version": 3
   },
   "file_extension": ".py",
   "mimetype": "text/x-python",
   "name": "python",
   "nbconvert_exporter": "python",
   "pygments_lexer": "ipython3",
   "version": "3.8.8"
  }
 },
 "nbformat": 4,
 "nbformat_minor": 5
}
