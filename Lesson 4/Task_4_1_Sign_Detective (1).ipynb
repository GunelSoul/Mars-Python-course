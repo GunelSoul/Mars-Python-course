{
 "cells": [
  {
   "cell_type": "markdown",
   "metadata": {
    "id": "Ma9BV1OIgZwz"
   },
   "source": [
    "### [EN]\n",
    "\n",
    "**Sign Detective**\n",
    "\n",
    "**Instructions**\n",
    "\n",
    "**In this task, you will write a program that can tell if a number is positive, negative, or zero. To do this, you will use a special tool called \"if/else statements\". These are like detectives that can help your program figure out if a number is good (+), bad (-), or neutral (0). Once your program has figured out the sign of the number, it will tell you what it found by printing a message on the screen. Are you ready to be a sign detective? Let's get started!**"
   ]
  },
  {
   "cell_type": "markdown",
   "metadata": {
    "colab": {
     "base_uri": "https://localhost:8080/",
     "height": 130
    },
    "id": "eHc74ChfyBkv",
    "outputId": "6cdde6e8-3331-4808-ef5b-2222bb69631a",
    "scrolled": true
   },
   "source": [
    "### [AZ]\n",
    "\n",
    "**Işarə detektivi**\n",
    "\n",
    "**Təlimatlar**\n",
    "\n",
    "**Bu tapşırıqda, bir sayın müsbət, mənfi və ya sıfır olmasını müəyyən edən bir proqram yazacaqsınız. Bunu eləmək üçün, \"if/else\" adlanan kod tipindən istifadə edəcəksiniz. Bu kodlar, bir ədədin yaxşı (+), pis (-) və ya neytral (0) olmasını müəyyən edə bilən detektivlərdir. Proqram bəzi hesablamaları edərək sayın işarəsini tapacaq və daha sonra bunu konsola yazacaq. İşarə detektivi olmağa hazırsınızsa, başlayaq!**"
   ]
  },
  {
   "cell_type": "code",
   "execution_count": null,
   "metadata": {
    "id": "lq0S8aOBiFcz"
   },
   "outputs": [],
   "source": [
    "number = int(input(\"Enter number: \"))\n",
    "\n",
    "# Write your code here\n",
    "# Kodu buraya yazın"
   ]
  }
 ],
 "metadata": {
  "colab": {
   "provenance": []
  },
  "kernelspec": {
   "display_name": "Python 3",
   "language": "python",
   "name": "python3"
  },
  "language_info": {
   "codemirror_mode": {
    "name": "ipython",
    "version": 3
   },
   "file_extension": ".py",
   "mimetype": "text/x-python",
   "name": "python",
   "nbconvert_exporter": "python",
   "pygments_lexer": "ipython3",
   "version": "3.6.5"
  }
 },
 "nbformat": 4,
 "nbformat_minor": 1
}
