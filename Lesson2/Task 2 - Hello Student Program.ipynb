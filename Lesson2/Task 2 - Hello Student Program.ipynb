{
 "cells": [
  {
   "cell_type": "code",
   "execution_count": 1,
   "id": "c5a1c865",
   "metadata": {},
   "outputs": [],
   "source": [
    "# Hello Student Program\n",
    "# Welcome, in this task you will practice variables and print function in python.\n",
    "\n",
    "# Instruction:\n",
    "\n",
    "# Create a variable called 'name' and assign your name to that variable \n",
    "# Print that variable using print function"
   ]
  },
  {
   "cell_type": "code",
   "execution_count": 2,
   "id": "00164c17",
   "metadata": {},
   "outputs": [],
   "source": [
    "#Write your code here\n",
    "\n",
    "\n",
    "\n"
   ]
  }
 ],
 "metadata": {
  "kernelspec": {
   "display_name": "Python 3 (ipykernel)",
   "language": "python",
   "name": "python3"
  },
  "language_info": {
   "codemirror_mode": {
    "name": "ipython",
    "version": 3
   },
   "file_extension": ".py",
   "mimetype": "text/x-python",
   "name": "python",
   "nbconvert_exporter": "python",
   "pygments_lexer": "ipython3",
   "version": "3.10.5"
  }
 },
 "nbformat": 4,
 "nbformat_minor": 5
}
