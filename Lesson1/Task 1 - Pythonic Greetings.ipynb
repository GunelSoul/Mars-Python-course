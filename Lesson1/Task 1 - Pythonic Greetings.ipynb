{
 "cells": [
  {
   "cell_type": "code",
   "execution_count": 1,
   "id": "dca69abf",
   "metadata": {},
   "outputs": [],
   "source": [
    "# Pythonic Greetings\n",
    "# Welcome, in this task you will practice print function in python.\n",
    "\n",
    "# Instruction:\n",
    "\n",
    "# Using print function, print your name."
   ]
  },
  {
   "cell_type": "code",
   "execution_count": null,
   "id": "d7434ff9",
   "metadata": {},
   "outputs": [],
   "source": [
    "# Write your code here\n",
    "\n",
    "\n"
   ]
  }
 ],
 "metadata": {
  "kernelspec": {
   "display_name": "Python 3 (ipykernel)",
   "language": "python",
   "name": "python3"
  },
  "language_info": {
   "codemirror_mode": {
    "name": "ipython",
    "version": 3
   },
   "file_extension": ".py",
   "mimetype": "text/x-python",
   "name": "python",
   "nbconvert_exporter": "python",
   "pygments_lexer": "ipython3",
   "version": "3.10.5"
  }
 },
 "nbformat": 4,
 "nbformat_minor": 5
}
