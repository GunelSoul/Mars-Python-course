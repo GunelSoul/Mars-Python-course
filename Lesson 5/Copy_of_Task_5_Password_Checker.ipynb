{
  "cells": [
    {
      "cell_type": "markdown",
      "metadata": {
        "id": "GM-Z1MqaA8Pu"
      },
      "source": [
        "### [EN]\n",
        "\n",
        "**Password Checker program**\n",
        "\n",
        "**Instructions**\n",
        "\n",
        "**Create variables called 'email' and 'password'**\n",
        "**Ask the user to enter email, password and assign these values into corresponding**\n",
        "**variables**\n",
        "\n",
        "**If entered email is 'student@gmail.com' and the password is '12345' then print  'Correct' message (without quotes), else print the 'Wrong' message**"
      ]
    },
    {
      "cell_type": "markdown",
      "metadata": {
        "id": "mkEsESfzOMa0"
      },
      "source": [
        "### [AZ]\n",
        "\n",
        "**Şifrə yoxlayan proqram**\n",
        "\n",
        "**Təlimatlar**\n",
        "\n",
        "**\"email\" və \"password\" adında 2 dəyişən yaradın\n",
        "İstifadəçidən email və password daxil etməsini istəyin və bu dəyərləri uyğun\n",
        "dəyişənlərə mənimsədin**\n",
        "\n",
        "**Əgər daxil edilmiş email \"student@gmail.com\"-dir və şifrə \"12345\"-dürsə, ekrana**\n",
        "**\"Correct\" mesajını yazdırın.**"
      ]
    },
    {
      "cell_type": "code",
      "execution_count": null,
      "metadata": {
        "id": "E9lktyB8CiBS"
      },
      "outputs": [],
      "source": [
        "#Write your code here\n",
        "# Kodu bura yazın\n"
      ]
    }
  ],
  "metadata": {
    "colab": {
      "provenance": []
    },
    "kernelspec": {
      "display_name": "Python 3",
      "language": "python",
      "name": "python3"
    },
    "language_info": {
      "codemirror_mode": {
        "name": "ipython",
        "version": 3
      },
      "file_extension": ".py",
      "mimetype": "text/x-python",
      "name": "python",
      "nbconvert_exporter": "python",
      "pygments_lexer": "ipython3",
      "version": "3.6.5"
    }
  },
  "nbformat": 4,
  "nbformat_minor": 0
}