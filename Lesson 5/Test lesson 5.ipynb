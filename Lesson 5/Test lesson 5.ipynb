{
 "cells": [
  {
   "cell_type": "markdown",
   "id": "7b21179d",
   "metadata": {},
   "source": [
    "[ENG]Write program which takes two integer inputs from the user and performs arithmetic operations based on input. Your program should contain following, but we expect you to add something special and modify program in better way:"
   ]
  },
  {
   "cell_type": "markdown",
   "id": "cde83219",
   "metadata": {},
   "source": [
    "[AZE]İstifadəçidən iki tam ədəd daxil edən və daxiletmə əsasında hesab əməliyyatları yerinə yetirən proqram yazın. Proqrama mütləq şəkildə aşağıda sədalanan daxil olmalıdı, lakin biz sizdən xüsusi bir şey əlavə etməyinizi və proqramı daha maraqlı şəkildə dəyişdirməyinizi gözləyirik:"
   ]
  },
  {
   "cell_type": "code",
   "execution_count": null,
   "id": "0c4ac95e",
   "metadata": {},
   "outputs": [],
   "source": [
    "# User enter the first integer and store it in a variable \n",
    "# İstifadəçi birinci tam ədədi daxil edir və onu dəyişəndə saxlayır\n"
   ]
  },
  {
   "cell_type": "code",
   "execution_count": null,
   "id": "9800e383",
   "metadata": {},
   "outputs": [],
   "source": [
    "# User to enter the second integer and store it in a variable\n",
    "# İstifadəçi ikinci tam ədədi daxil edir və onu dəyişəndə saxlayır\n"
   ]
  },
  {
   "cell_type": "code",
   "execution_count": null,
   "id": "b8e11c36",
   "metadata": {},
   "outputs": [],
   "source": [
    "# Print the sum of the two integers\n",
    "# İki tam ədədin cəmini çap edin\n"
   ]
  },
  {
   "cell_type": "code",
   "execution_count": null,
   "id": "89829e6b",
   "metadata": {},
   "outputs": [],
   "source": [
    "# Print the difference of the two integers\n",
    "# İki tam ədədin fərqini çap edin\n"
   ]
  },
  {
   "cell_type": "code",
   "execution_count": null,
   "id": "bc2bc655",
   "metadata": {},
   "outputs": [],
   "source": [
    "# Print the multiplication of the two integers\n",
    "# İki tam ədədin vurulmasını çap edin\n"
   ]
  },
  {
   "cell_type": "code",
   "execution_count": null,
   "id": "637c9ea7",
   "metadata": {},
   "outputs": [],
   "source": [
    "# Check if the first number is greater than the second number\n",
    "# Birinci rəqımin ikinci rəqəmdən böyük olub olmadığını yoxlayın\n"
   ]
  }
 ],
 "metadata": {
  "kernelspec": {
   "display_name": "Python 3",
   "language": "python",
   "name": "python3"
  },
  "language_info": {
   "codemirror_mode": {
    "name": "ipython",
    "version": 3
   },
   "file_extension": ".py",
   "mimetype": "text/x-python",
   "name": "python",
   "nbconvert_exporter": "python",
   "pygments_lexer": "ipython3",
   "version": "3.8.8"
  }
 },
 "nbformat": 4,
 "nbformat_minor": 5
}
